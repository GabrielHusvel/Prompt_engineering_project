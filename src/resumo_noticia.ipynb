{
 "cells": [
  {
   "cell_type": "code",
   "execution_count": 6,
   "metadata": {},
   "outputs": [],
   "source": [
    "import google.generativeai as genai\n",
    "import os\n",
    "from dotenv import load_dotenv\n",
    "\n",
    "# Carrega as variáveis do arquivo .env\n",
    "load_dotenv()\n",
    "\n",
    "# Obtém a chave da API do arquivo .env\n",
    "gemini_api_key = os.getenv(\"GEMINI_API_KEY\")\n",
    "genai.configure(api_key=gemini_api_key)"
   ]
  },
  {
   "cell_type": "code",
   "execution_count": 5,
   "metadata": {},
   "outputs": [
    {
     "name": "stdout",
     "output_type": "stream",
     "text": [
      "Delator do PCC morto em SP carregava mais de R$ 1 milhão em joias. Antônio Vinicius Lopes Gritzbach, que havia viajado a Maceió para cobrar uma dívida, foi executado no Aeroporto Internacional de São Paulo, em Guarulhos. Sua mala continha joias de marcas como Bulgari, Cristovam Joalheria, Vivara e Cartier. Nenhum item foi roubado. \n",
      "\n"
     ]
    }
   ],
   "source": [
    "\n",
    "\n",
    "\n",
    "# Notícia a ser resumida \n",
    "noticia = \"\"\"\n",
    "Delator do PCC executado no Aeroporto Internacional de SP trazia mala com joias que somam mais de R$ 1 milhão. As joias, segundo a polícia, tinham certificado de joalheiras caras como Bulgari, Cristovam Joalheria, Vivara e Cartier. Fontes dizem que Antônio Gritzbach viajou a Maceió (AL) para cobrar uma dívida. Ele foi morto ao desembarcar em Cumbica. Nenhum item foi roubado. Executado no Aeroporto Internacional de São Paulo, em Guarulhos na sexta-feira (8), o delator do PCC Antônio Vinicius Lopes Gritzbach levava uma bagagem contendo mais de R$ 1 milhão em joias e objetos de valor no momento do crime. Segundo o boletim de ocorrência do caso, registrado primeiramente da delegacia de Cumbica, a bagagem trazida por Gritzbach da viagem a Maceió continha ao menos 38 itens de alto valor.\n",
    "\"\"\"\n",
    "\n",
    "# Exemplos para guiar o resumo\n",
    "exemplos = \"\"\"\n",
    "noticia: A inflação oficial do país, medida pelo IPCA, desacelerou para 0,23% em junho, após ter subido 0,61% em maio, informou nesta terça-feira o IBGE (Instituto Brasileiro de Geografia e Estatística). \n",
    "resumo: Inflação desacelera para 0,23% em junho, segundo o IBGE.\n",
    "\n",
    "noticia: O dólar comercial fechou esta sexta-feira (8) vendido a R$ 5,76, com alta de R$ 0,045 (+0,80%). A cotação operou em alta durante todo o dia, com investidores repercutindo os dados de inflação nos Estados Unidos e a ata da última reunião do Copom (Comitê de Política Monetária). \n",
    "resumo: Dólar fecha em alta de 0,80%, a R$ 5,766.\n",
    "\"\"\"\n",
    "\n",
    "# Exemplo de uso:\n",
    "prompt = f\"Você é um redator especialista em resumo de notícias, use esses dois exemplos {exemplos} para fazer o resumo da notícia a seguir {noticia}.\"\n",
    "model = genai.GenerativeModel(\"gemini-1.5-flash\")\n",
    "response = model.generate_content(prompt)\n",
    "print(response.text)"
   ]
  }
 ],
 "metadata": {
  "kernelspec": {
   "display_name": ".venv",
   "language": "python",
   "name": "python3"
  },
  "language_info": {
   "codemirror_mode": {
    "name": "ipython",
    "version": 3
   },
   "file_extension": ".py",
   "mimetype": "text/x-python",
   "name": "python",
   "nbconvert_exporter": "python",
   "pygments_lexer": "ipython3",
   "version": "3.12.4"
  }
 },
 "nbformat": 4,
 "nbformat_minor": 2
}
