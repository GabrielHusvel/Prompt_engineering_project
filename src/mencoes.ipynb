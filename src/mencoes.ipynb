{
 "cells": [
  {
   "cell_type": "code",
   "execution_count": 1,
   "metadata": {},
   "outputs": [
    {
     "name": "stderr",
     "output_type": "stream",
     "text": [
      "c:\\Users\\gabri\\projects\\TPS\\TP2_EngPrompt\\.venv\\Lib\\site-packages\\tqdm\\auto.py:21: TqdmWarning: IProgress not found. Please update jupyter and ipywidgets. See https://ipywidgets.readthedocs.io/en/stable/user_install.html\n",
      "  from .autonotebook import tqdm as notebook_tqdm\n"
     ]
    }
   ],
   "source": [
    "import google.generativeai as genai\n",
    "import os\n",
    "from dotenv import load_dotenv\n",
    "\n",
    "# Carrega as variáveis do arquivo .env\n",
    "load_dotenv()\n",
    "\n",
    "# Obtém a chave da API do arquivo .env\n",
    "gemini_api_key = os.getenv(\"GEMINI_API_KEY\")\n",
    "genai.configure(api_key=gemini_api_key)"
   ]
  },
  {
   "cell_type": "code",
   "execution_count": 2,
   "metadata": {},
   "outputs": [
    {
     "name": "stdout",
     "output_type": "stream",
     "text": [
      "## Pessoas, Empresas e Órgãos Públicos nas Notícia:\n",
      "\n",
      "**Notícia 1:**\n",
      "\n",
      "* **Pessoas:**\n",
      "    * Nikolas Ferreira (deputado federal)\n",
      "    * Internautas\n",
      "* **Empresas:**\n",
      "    * CHat GPT (ferramenta de inteligência artificial)\n",
      "    * Revista Fórum\n",
      "    * Smodin (plataforma de análise de texto)\n",
      "    * Isgen (plataforma de análise de texto)\n",
      "    * Copyleaks (plataforma de análise de texto)\n",
      "    * NeuralWriter (plataforma de análise de texto)\n",
      "* **Órgãos Públicos:** Nenhum.\n",
      "\n",
      "**Notícia 2:**\n",
      "\n",
      "* **Pessoas:**\n",
      "    * Gabigol (atacante)\n",
      "    * Marcos Braz (vice-presidente de futebol do Flamengo)\n",
      "    * Alexandre Mattos (CEO do Cruzeiro)\n",
      "    * Dudu (atacante do Palmeiras)\n",
      "* **Empresas:**\n",
      "    * Flamengo\n",
      "    * Cruzeiro\n",
      "    * Palmeiras\n",
      "    * Itatiaia (rádio)\n",
      "* **Órgãos Públicos:** Nenhum.\n",
      "\n",
      "**Notícia 3:**\n",
      "\n",
      "* **Pessoas:**\n",
      "    * Antônio Vinicius Lopes Gritzbach (delator do PCC)\n",
      "* **Empresas:**\n",
      "    * Bulgari (joalheria)\n",
      "    * Cristovam Joalheria \n",
      "    * Vivara (joalheria)\n",
      "    * Cartier (joalheria)\n",
      "* **Órgãos Públicos:**\n",
      "    * PCC (Primeiro Comando da Capital)\n",
      "    * Polícia \n",
      "    * Delegacia de Cumbica \n",
      "\n"
     ]
    }
   ],
   "source": [
    "# Exemplos para guiar o resumo\n",
    "noticias = \"\"\"\n",
    "noticia: O deputado federal Nikolas Ferreira (PL-MG) foi criticado nas redes sociais após usar a ferramenta de inteligência artificial CHat GPT para defender a continuidade da escala 6x1 no Brasil, informa a Revista Fórum.  O parlamentar publicou um texto em seus stories, no Instagram, defendendo o regime. No entanto, internautas apontam que o texto foi feito com auxílio de inteligência artificial.\n",
    "O texto de Nikolas defende, em seis argumentos, a escala 6x1: \"impacto na competitividade, Aumento dos custos para as empresas, possível desemprego, redução de salários, dificuldades na adaptação para alguns setores e, além disso, um trecho sobre baixa produtividade no Brasil em comparação com outros países.\"\n",
    "A Fórum utilizou quatro ferramentas para avaliar se o texto foi gerado por inteligência artificial. De acordo com as plataformas Smodin, Isgen e Copyleaks, o texto de Nikolas Ferreira foi integralmente criado por inteligência artificial. Segundo a plataforma NeuralWriter, há apenas 20% de chance de o texto ter sido feito por um ser humano.\n",
    "O veículo também pediu ao Chat GPT para criar um texto listando seis impactos negativos do fim da escala 6x1 no Brasil. O resultado foi semelhante ao apresentado no texto do deputado: \"aumento do custo operacional das empresas, redução da competitividade, pressão inflacionária por conta de aumento de custos, diminuição das oportunidades de emprego, impacto na prestação de serviços essenciais e desestímulo ao investimento no Brasil\".\n",
    "\n",
    "noticia: O atacante Gabigol confirmou neste domingo (10), logo após conquista a Copa do Brasil sobre o Atlético-MG, na Arena MRV, em Belo Horizonte, que deixará o Flamengo ao fim do ano. O jogador de 28 anos tem conversas em curso com o Cruzeiro e tudo indica que caminhará para uma oficialização.\n",
    "O acerto entre Gabigol e Cruzeiro foi confirmado pelo vice-presidente de futebol do Flamengo, Marcos Braz, em entrevista coletiva neste domingo, na Arena, após a conquista da Copa do Brasil.\n",
    "“O jogador entendeu que o Cruzeiro seria um grande clube pra ele”, disse Braz. O que diz o Cruzeiro?\n",
    "À Itatiaia, o CEO do Cruzeiro, Alexandre Mattos, confirmou que Gabigol está nos planos do Cruzeiro, mas destacou que ainda não é possível tratá-lo como reforço, pois nada está assinado entre as partes. O executivo admitiu que tem conversado com os representantes de Gabigol sobre a possibilidade de o atacante reforçar o clube a partir da próxima temporada.\n",
    "Cautela tem relação com reviravolta no caso Dudu\n",
    "O Cruzeiro adota cautela para tratar Gabigol como reforço para evitar uma reviravolta como a ocorrida com Dudu, do Palmeiras, em junho deste ano. À época, o atacante acertou tudo com a direção cruzeirense e foi anunciado como reforço. Dois dias depois, o jogador desistiu e decidiu seguir em São Paulo. Não havia contrato assinado entre as partes.\n",
    "\n",
    "noticia: Delator do PCC executado no Aeroporto Internacional de SP trazia mala com joias que somam mais de R$ 1 milhão. As joias, segundo a polícia, tinham certificado de joalheiras caras como Bulgari, Cristovam Joalheria, Vivara e Cartier. Fontes dizem que Antônio Gritzbach viajou a Maceió (AL) para cobrar uma dívida. Ele foi morto ao desembarcar em Cumbica. Nenhum item foi roubado. Executado no Aeroporto Internacional de São Paulo, em Guarulhos na sexta-feira (8), o delator do PCC Antônio Vinicius Lopes Gritzbach levava uma bagagem contendo mais de R$ 1 milhão em joias e objetos de valor no momento do crime. Segundo o boletim de ocorrência do caso, registrado primeiramente da delegacia de Cumbica, a bagagem trazida por Gritzbach da viagem a Maceió continha ao menos 38 itens de alto valor.\n",
    "\n",
    "\"\"\"\n",
    "\n",
    "# Exemplo de uso:\n",
    "prompt = f\"\"\"Por favor, Identifique todas as menções de pessoas, empresas e órgãos públicos na seguintes notícias: {noticias}.\"\"\"\n",
    "model = genai.GenerativeModel(\"gemini-1.5-flash\")\n",
    "response = model.generate_content(prompt)\n",
    "print(response.text)"
   ]
  },
  {
   "cell_type": "code",
   "execution_count": null,
   "metadata": {},
   "outputs": [],
   "source": []
  }
 ],
 "metadata": {
  "kernelspec": {
   "display_name": ".venv",
   "language": "python",
   "name": "python3"
  },
  "language_info": {
   "codemirror_mode": {
    "name": "ipython",
    "version": 3
   },
   "file_extension": ".py",
   "mimetype": "text/x-python",
   "name": "python",
   "nbconvert_exporter": "python",
   "pygments_lexer": "ipython3",
   "version": "3.12.4"
  }
 },
 "nbformat": 4,
 "nbformat_minor": 2
}
